{
  "nbformat": 4,
  "nbformat_minor": 0,
  "metadata": {
    "colab": {
      "provenance": [],
      "include_colab_link": true
    },
    "kernelspec": {
      "name": "python3",
      "display_name": "Python 3"
    },
    "language_info": {
      "name": "python"
    }
  },
  "cells": [
    {
      "cell_type": "markdown",
      "metadata": {
        "id": "view-in-github",
        "colab_type": "text"
      },
      "source": [
        "<a href=\"https://colab.research.google.com/github/VSvvv12/python_enjoyer/blob/main/python_practice_5.ipynb\" target=\"_parent\"><img src=\"https://colab.research.google.com/assets/colab-badge.svg\" alt=\"Open In Colab\"/></a>"
      ]
    },
    {
      "cell_type": "markdown",
      "source": [
        "# I. OOP"
      ],
      "metadata": {
        "id": "awfU0tMnOlHH"
      }
    },
    {
      "cell_type": "markdown",
      "source": [
        "1. (7б). Створіть клас Animal, додайте docstring, три атрибути, один з яких має значення за замовчуванням та два методи на свій розсуд."
      ],
      "metadata": {
        "id": "T6r88C4sOwbI"
      }
    },
    {
      "cell_type": "code",
      "source": [
        "class Animal:\n",
        "    \"\"\"\n",
        "    Клас, який представляє тварину.\n",
        "\n",
        "    Attributes:\n",
        "    - name (str): Ім'я тварини.\n",
        "    - species (str): Вид тварини.\n",
        "    - sound (str): Звук, що виділяє тварина (за замовчуванням 'гав').\n",
        "    \"\"\"\n",
        "\n",
        "    def __init__(self, name, species, sound='гав'):\n",
        "        self.name = name\n",
        "        self.species = species\n",
        "        self.sound = sound\n",
        "\n",
        "    def make_sound(self):\n",
        "        \"\"\"Метод для відтворення звуку тварини.\"\"\"\n",
        "        print(f\"{self.name} видає звук: {self.sound}\")\n",
        "\n",
        "    def move(self):\n",
        "        \"\"\"Метод, який вказує на рух тварини.\"\"\"\n",
        "        print(f\"{self.name} рухається.\")"
      ],
      "metadata": {
        "id": "fWXuCGV8Oqrn"
      },
      "execution_count": 1,
      "outputs": []
    },
    {
      "cell_type": "markdown",
      "source": [
        "1.1. (5б). Створіть два обʼєкти цього класу. На одному обʼєкті отримайте значення його атрибуту, а на іншому викличте один з його методів."
      ],
      "metadata": {
        "id": "CTu5Dt0_UKul"
      }
    },
    {
      "cell_type": "code",
      "source": [
        "tiger = Animal(\"Тигр\", \"Хижак\")\n",
        "\n",
        "print(f\"Вид тварини: {tiger.species}\")\n",
        "\n",
        "dog = Animal(\"Собака\", \"Домашня\", \"гав\")\n",
        "\n",
        "dog.make_sound()"
      ],
      "metadata": {
        "id": "nLQqAIlKUQRP",
        "colab": {
          "base_uri": "https://localhost:8080/"
        },
        "outputId": "1a092a8d-b575-4bc1-cf51-ed03ee99b83d"
      },
      "execution_count": 2,
      "outputs": [
        {
          "output_type": "stream",
          "name": "stdout",
          "text": [
            "Вид тварини: Хижак\n",
            "Собака видає звук: гав\n"
          ]
        }
      ]
    },
    {
      "cell_type": "markdown",
      "source": [
        "2. (9б). Створіть клас, де атрибути мають різні рівні доступу. Спробуйте отримати їхні значення та опишіть результати."
      ],
      "metadata": {
        "id": "3KKpQYcWRNgj"
      }
    },
    {
      "cell_type": "code",
      "source": [
        "class MyClass:\n",
        "    def __init__(self):\n",
        "        self.public_attribute = \"Це публічний атрибут\"\n",
        "        self._protected_attribute = \"Це захищений атрибут\"\n",
        "        self.__private_attribute = \"Це приватний атрибут\"\n",
        "\n",
        "    def get_private_attribute(self):\n",
        "        return self.__private_attribute\n",
        "\n",
        "obj = MyClass()\n",
        "# Отримання значень атрибутів\n",
        "print(obj.public_attribute)\n",
        "print(obj._protected_attribute)\n",
        "print(obj.get_private_attribute())"
      ],
      "metadata": {
        "id": "PlMQmzciRM_D",
        "colab": {
          "base_uri": "https://localhost:8080/"
        },
        "outputId": "7bd8fec4-7e81-4bbe-e236-e1fcaad85af8"
      },
      "execution_count": 3,
      "outputs": [
        {
          "output_type": "stream",
          "name": "stdout",
          "text": [
            "Це публічний атрибут\n",
            "Це захищений атрибут\n",
            "Це приватний атрибут\n"
          ]
        }
      ]
    },
    {
      "cell_type": "markdown",
      "source": [
        "3. (8б). Як ви розумієте термін self? Для чого використовується метод __init __?"
      ],
      "metadata": {
        "id": "iaoOLp4RRZyc"
      }
    },
    {
      "cell_type": "markdown",
      "source": [
        "self - це посилання на поточний об'єкт класу, а метод __init__ встановлює початкові значення об'єкта при його створенні"
      ],
      "metadata": {
        "id": "-yuvBRjFRlz5"
      }
    },
    {
      "cell_type": "markdown",
      "source": [
        "4. (8б). Створіть клас Фігура без атрибутів, з методом get_area для отримання площі фігури, що повертає 0 та __add __, який приймає self та other в якості аргументів, а повертає суму площин фігур self та other."
      ],
      "metadata": {
        "id": "nVectYeATZAi"
      }
    },
    {
      "cell_type": "code",
      "source": [
        "class Figure:\n",
        "    def get_area(self):\n",
        "        return 0\n",
        "\n",
        "    def __add__(self, other):\n",
        "        return self.get_area() + other.get_area()"
      ],
      "metadata": {
        "id": "EYvcpzHbRZLz"
      },
      "execution_count": 4,
      "outputs": []
    },
    {
      "cell_type": "markdown",
      "source": [
        "5. (11б). Створіть 2 дочірніх класи від Фігури: Трикутник та Коло, які мають атрибути, необхідні для розрахунку площин. Визначте метод get_area в кожному з них так, щоби вони розраховували площу в залежності від формули для кожного типу фігури. Створіть обʼєкт класу Трикутник та обʼєкт класу Коло. Виконайте операцію суми за допомогою оператора + між ними."
      ],
      "metadata": {
        "id": "PheOkqlCg9SD"
      }
    },
    {
      "cell_type": "code",
      "source": [
        "import math\n",
        "\n",
        "class Figure:\n",
        "    def get_area(self):\n",
        "        return 0\n",
        "\n",
        "    def __add__(self, other):\n",
        "        return self.get_area() + other.get_area()\n",
        "\n",
        "class Triangle(Figure):\n",
        "    def __init__(self, base, height):\n",
        "        self.base = base\n",
        "        self.height = height\n",
        "\n",
        "    def get_area(self):\n",
        "        return 0.5 * self.base * self.height\n",
        "\n",
        "class Circle(Figure):\n",
        "    def __init__(self, radius):\n",
        "        self.radius = radius\n",
        "\n",
        "    def get_area(self):\n",
        "        return math.pi * self.radius ** 2\n",
        "\n",
        "\n",
        "triangle = Triangle(5, 10)\n",
        "\n",
        "circle = Circle(7)\n",
        "\n",
        "print(\"Площа трикутника:\", triangle.get_area())\n",
        "print(\"Площа кола:\", circle.get_area())\n",
        "\n",
        "total_area = triangle + circle\n",
        "print(\"Сума площ трикутника та кола:\", total_area)"
      ],
      "metadata": {
        "id": "7Jo8-rqlhNSw",
        "colab": {
          "base_uri": "https://localhost:8080/"
        },
        "outputId": "54b4c547-cfa8-4de2-a087-da5c077f5e5d"
      },
      "execution_count": 5,
      "outputs": [
        {
          "output_type": "stream",
          "name": "stdout",
          "text": [
            "Площа трикутника: 25.0\n",
            "Площа кола: 153.93804002589985\n",
            "Сума площ трикутника та кола: 178.93804002589985\n"
          ]
        }
      ]
    },
    {
      "cell_type": "markdown",
      "source": [
        "6. (7б). Продемонструйте різницю між isinstance та issubclass."
      ],
      "metadata": {
        "id": "WxW51aGIhN2q"
      }
    },
    {
      "cell_type": "code",
      "source": [
        "print(issubclass(Triangle, Figure))\n",
        "print(isinstance(12, str))"
      ],
      "metadata": {
        "id": "E-QybeYShdAu",
        "colab": {
          "base_uri": "https://localhost:8080/"
        },
        "outputId": "a764a386-bd23-4a66-d72c-c294998fdc6b"
      },
      "execution_count": 8,
      "outputs": [
        {
          "output_type": "stream",
          "name": "stdout",
          "text": [
            "True\n",
            "False\n"
          ]
        }
      ]
    },
    {
      "cell_type": "markdown",
      "source": [
        "7. (16б). Створіть клас BankAccount з приватними атрибутами balance та account_number.\n",
        "Реалізуйте методи поповнення та зняття коштів, забезпечивши належну інкапсуляцію. Підказка: використовуйте декоратори getter та setter."
      ],
      "metadata": {
        "id": "Mrup7UL3hfC3"
      }
    },
    {
      "cell_type": "code",
      "source": [
        "class BankAccount:\n",
        "    def __init__(self, account_number, initial_balance=0):\n",
        "        self._account_number = account_number\n",
        "        self._balance = initial_balance\n",
        "\n",
        "    @property\n",
        "    def balance(self):\n",
        "        return self._balance\n",
        "\n",
        "    @property\n",
        "    def account_number(self):\n",
        "        return self._account_number\n",
        "\n",
        "    def deposit(self, amount):\n",
        "        if amount > 0:\n",
        "            self._balance += amount\n",
        "            print(f\"Поповнення на {amount} грн успішно. Новий баланс: {self._balance}\")\n",
        "        else:\n",
        "            print(\"Сума для поповнення повинна бути більше нуля.\")\n",
        "\n",
        "    def withdraw(self, amount):\n",
        "        if 0 < amount <= self._balance:\n",
        "            self._balance -= amount\n",
        "            print(f\"Зняття {amount} грн успішно. Новий баланс: {self._balance}\")\n",
        "        else:\n",
        "            print(\"Недостатньо коштів на рахунку або неприпустима сума для зняття.\")\n",
        "\n",
        "account = BankAccount(\"1234567890\", 2000)\n",
        "\n",
        "print(\"Поточний баланс:\", account.balance)\n",
        "print(\"Номер рахунку:\", account.account_number)\n",
        "\n",
        "account.deposit(500)\n",
        "account.withdraw(200)\n",
        "account.withdraw(2000)"
      ],
      "metadata": {
        "id": "Vi8gw9G6i37Y",
        "colab": {
          "base_uri": "https://localhost:8080/"
        },
        "outputId": "6510296e-6263-44a4-a4e8-afc24e0fee4b"
      },
      "execution_count": 10,
      "outputs": [
        {
          "output_type": "stream",
          "name": "stdout",
          "text": [
            "Поточний баланс: 2000\n",
            "Номер рахунку: 1234567890\n",
            "Поповнення на 500 грн успішно. Новий баланс: 2500\n",
            "Зняття 200 грн успішно. Новий баланс: 2300\n",
            "Зняття 2000 грн успішно. Новий баланс: 300\n"
          ]
        }
      ]
    },
    {
      "cell_type": "markdown",
      "source": [
        "8. (16б). Створіть клас Library, який містить список об'єктів типу Book.\n",
        "Реалізуйте методи для додавання книги, видалення книги та відображення списку книг."
      ],
      "metadata": {
        "id": "q1mgZYuFjB_q"
      }
    },
    {
      "cell_type": "code",
      "source": [
        "class Book:\n",
        "    def __init__(self, title, author):\n",
        "        self.title = title\n",
        "        self.author = author\n",
        "\n",
        "class Library:\n",
        "    def __init__(self):\n",
        "        self.books = []\n",
        "\n",
        "    def add_book(self, book):\n",
        "        if isinstance(book, Book):\n",
        "            self.books.append(book)\n",
        "            print(f\"Книга '{book.title}' успішно додана до бібліотеки.\")\n",
        "        else:\n",
        "            print(\"Додати можна лише об'єкти класу Book.\")\n",
        "\n",
        "    def remove_book(self, book):\n",
        "        if book in self.books:\n",
        "            self.books.remove(book)\n",
        "            print(f\"Книга '{book.title}' видалена з бібліотеки.\")\n",
        "        else:\n",
        "            print(\"Такої книги немає в бібліотеці.\")\n",
        "\n",
        "    def display_books(self):\n",
        "        if self.books:\n",
        "            print(\"Список книг у бібліотеці:\")\n",
        "            for book in self.books:\n",
        "                print(f\"Назва: {book.title}, Автор: {book.author}\")\n",
        "        else:\n",
        "            print(\"У бібліотеці немає жодної книги.\")\n",
        "\n",
        "library = Library()\n",
        "\n",
        "book1 = Book(\"Harry Potter and the Chamber of Secrets\", \" Джоан Роулинг\")\n",
        "book2 = Book(\"Мавка\", \"Леся Українка\")\n",
        "\n",
        "library.add_book(book1)\n",
        "library.add_book(book2)\n",
        "library.display_books()\n",
        "library.remove_book(book1)\n",
        "library.display_books()\n",
        "library.remove_book(book1)"
      ],
      "metadata": {
        "id": "z1W8DINmjQQj",
        "colab": {
          "base_uri": "https://localhost:8080/"
        },
        "outputId": "e1047f81-35c2-4a9d-e735-45173e9f9be5"
      },
      "execution_count": 12,
      "outputs": [
        {
          "output_type": "stream",
          "name": "stdout",
          "text": [
            "Книга 'Harry Potter and the Chamber of Secrets' успішно додана до бібліотеки.\n",
            "Книга 'Мавка' успішно додана до бібліотеки.\n",
            "Список книг у бібліотеці:\n",
            "Назва: Harry Potter and the Chamber of Secrets, Автор:  Джоан Роулинг\n",
            "Назва: Мавка, Автор: Леся Українка\n",
            "Книга 'Harry Potter and the Chamber of Secrets' видалена з бібліотеки.\n",
            "Список книг у бібліотеці:\n",
            "Назва: Мавка, Автор: Леся Українка\n",
            "Такої книги немає в бібліотеці.\n"
          ]
        }
      ]
    },
    {
      "cell_type": "markdown",
      "source": [
        "9. (13б). Створіть клас Person з атрибутами name та age.\n",
        "Створіть ще один клас Employee з такими атрибутами, як department та salary.\n",
        "Створіть клас Manager, який успадковує обидва класи Person та Employee. Продемонструйте використання множинної спадковості, створивши обʼєкт класу Manager та отримавши mro для цього класу."
      ],
      "metadata": {
        "id": "cCzctafPjwiZ"
      }
    },
    {
      "cell_type": "code",
      "source": [
        "class Person:\n",
        "    def __init__(self, name, age):\n",
        "        self.name = name\n",
        "        self.age = age\n",
        "\n",
        "class Employee:\n",
        "    def __init__(self, department, salary):\n",
        "        self.department = department\n",
        "        self.salary = salary\n",
        "\n",
        "class Manager(Person, Employee):\n",
        "    def __init__(self, name, age, department, salary, title):\n",
        "        Person.__init__(self, name, age)\n",
        "        Employee.__init__(self, department, salary)\n",
        "        self.title = title\n",
        "\n",
        "manager = Manager(name=\"John Doe\", age=35, department=\"IT\", salary=80000, title=\"Project Manager\")\n",
        "\n",
        "print(f\"Ім'я: {manager.name}\")\n",
        "print(f\"Вік: {manager.age}\")\n",
        "print(f\"Відділ: {manager.department}\")\n",
        "print(f\"Зарплата: {manager.salary}\")\n",
        "print(f\"Посада: {manager.title}\")\n",
        "print(\"MRO для класу Manager:\", Manager.mro())"
      ],
      "metadata": {
        "id": "tZQ8-tfPk1k5",
        "colab": {
          "base_uri": "https://localhost:8080/"
        },
        "outputId": "8852fd59-3229-43c5-c970-cc0da37945aa"
      },
      "execution_count": 15,
      "outputs": [
        {
          "output_type": "stream",
          "name": "stdout",
          "text": [
            "Ім'я: John Doe\n",
            "Вік: 35\n",
            "Відділ: IT\n",
            "Зарплата: 80000\n",
            "Посада: Project Manager\n",
            "MRO для класу Manager: [<class '__main__.Manager'>, <class '__main__.Person'>, <class '__main__.Employee'>, <class 'object'>]\n"
          ]
        }
      ]
    },
    {
      "cell_type": "markdown",
      "source": [
        "# Вітаю! Ви велика(ий) молодець, що впоралась(вся). Похваліть себе та побалуйте чимось приємним. Я Вами пишаюся."
      ],
      "metadata": {
        "id": "dzH9DdFTOxCC"
      }
    }
  ]
}