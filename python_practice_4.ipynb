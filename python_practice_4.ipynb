{
  "nbformat": 4,
  "nbformat_minor": 0,
  "metadata": {
    "colab": {
      "provenance": [],
      "include_colab_link": true
    },
    "kernelspec": {
      "name": "python3",
      "display_name": "Python 3"
    },
    "language_info": {
      "name": "python"
    }
  },
  "cells": [
    {
      "cell_type": "markdown",
      "metadata": {
        "id": "view-in-github",
        "colab_type": "text"
      },
      "source": [
        "<a href=\"https://colab.research.google.com/github/VSvvv12/python_enjoyer/blob/main/python_practice_4.ipynb\" target=\"_parent\"><img src=\"https://colab.research.google.com/assets/colab-badge.svg\" alt=\"Open In Colab\"/></a>"
      ]
    },
    {
      "cell_type": "markdown",
      "source": [
        "# I. Functions. Arguments."
      ],
      "metadata": {
        "id": "-xM96SkgLNxS"
      }
    },
    {
      "cell_type": "markdown",
      "source": [
        "0. (5б) Назвіть 4 частини, з яких складається визначення функції."
      ],
      "metadata": {
        "id": "RFkkDC1jikAI"
      }
    },
    {
      "cell_type": "code",
      "source": [
        "def greet(name):\n",
        "    print(f\"Hello, {name}!\")\n",
        "greet(\"World\")"
      ],
      "metadata": {
        "id": "tV4xxWnFisqZ",
        "colab": {
          "base_uri": "https://localhost:8080/"
        },
        "outputId": "48ded456-253c-46b5-f6f1-95b13b6039ff"
      },
      "execution_count": 1,
      "outputs": [
        {
          "output_type": "stream",
          "name": "stdout",
          "text": [
            "Hello, World!\n"
          ]
        }
      ]
    },
    {
      "cell_type": "markdown",
      "source": [
        "1. (4б) Визначте функцію, що приймає 2 аргументи та повертає результат ділення 1го аргумента на інший."
      ],
      "metadata": {
        "id": "mg6qjOB2LbVs"
      }
    },
    {
      "cell_type": "code",
      "execution_count": 4,
      "metadata": {
        "id": "lUbA_FWjKxQD",
        "colab": {
          "base_uri": "https://localhost:8080/"
        },
        "outputId": "4c1ea490-7da3-4a0f-859c-f3face3d6601"
      },
      "outputs": [
        {
          "output_type": "stream",
          "name": "stdout",
          "text": [
            "Результат ділення: 5.0\n"
          ]
        }
      ],
      "source": [
        "def division(a, b):\n",
        "  return a / b\n",
        "\n",
        "result = division(10, 2)\n",
        "print(\"Результат ділення:\", result)\n"
      ]
    },
    {
      "cell_type": "markdown",
      "source": [
        "2. (2б) Викличте вище визначену функцію, де другий аргумент дорівнює 0."
      ],
      "metadata": {
        "id": "wMAYj2KXLpiJ"
      }
    },
    {
      "cell_type": "code",
      "source": [
        "result = division(8, 0)\n",
        "print(\"Результат ділення на нуль:\", result)"
      ],
      "metadata": {
        "id": "103jJj32Lo4Y",
        "colab": {
          "base_uri": "https://localhost:8080/"
        },
        "outputId": "1bc08493-683d-4628-8d75-8ed15a23a73a"
      },
      "execution_count": 25,
      "outputs": [
        {
          "output_type": "stream",
          "name": "stdout",
          "text": [
            "Результат ділення на нуль: None\n"
          ]
        }
      ]
    },
    {
      "cell_type": "markdown",
      "source": [
        "ZeroDivisionError: division by zero"
      ],
      "metadata": {
        "id": "6RkgI4E1y-Bo"
      }
    },
    {
      "cell_type": "markdown",
      "source": [
        "3. (6б) Перевизначте функцію так, щоби у випадку ділення на 0 функція повертала None, а в решті випадків - результат розрахунків."
      ],
      "metadata": {
        "id": "eT-pwEwPMD3T"
      }
    },
    {
      "cell_type": "code",
      "source": [
        "def division(a, b):\n",
        "    if b == 0:\n",
        "        return None\n",
        "    else:\n",
        "        return a / b\n",
        "\n",
        "result = division(10, 2)\n",
        "print(\"Результат ділення:\", result)\n",
        "\n",
        "result_division_by_zero = division(8, 0)\n",
        "print(\"Результат ділення на нуль:\", result_division_by_zero)"
      ],
      "metadata": {
        "id": "1h6Jz7CKMTk_",
        "colab": {
          "base_uri": "https://localhost:8080/"
        },
        "outputId": "751eebcf-feb1-4516-a395-9112fc5a5b08"
      },
      "execution_count": 9,
      "outputs": [
        {
          "output_type": "stream",
          "name": "stdout",
          "text": [
            "Результат ділення: 5.0\n",
            "Результат ділення на нуль: None\n"
          ]
        }
      ]
    },
    {
      "cell_type": "markdown",
      "source": [
        "4. (5б) Напишіть документацію (docstring) у форматі Google до функції, що має обчислювати суму двох чисел."
      ],
      "metadata": {
        "id": "iuTiofyDMVMG"
      }
    },
    {
      "cell_type": "code",
      "source": [
        "def calculate_sum(a, b):\n",
        "    \"\"\"\n",
        "    Обчислює суму двох чисел.\n",
        "\n",
        "    :param a: Перше число (int або float).\n",
        "    :param b: Друге число (int або float).\n",
        "    :return: Сума чисел a та b (int або float).\n",
        "    \"\"\"\n",
        "    return a + b"
      ],
      "metadata": {
        "id": "a9E6iU_iNyYQ"
      },
      "execution_count": 40,
      "outputs": []
    },
    {
      "cell_type": "markdown",
      "source": [
        "5. (4б) Реалізуйте цю функцію (із додаванням docstring у визначення функції)."
      ],
      "metadata": {
        "id": "ZvrsUQZFN5VT"
      }
    },
    {
      "cell_type": "code",
      "source": [
        "def calculate_sum(a, b):\n",
        "    return a + b\n",
        "\n",
        "calculate_sum(5, 8)"
      ],
      "metadata": {
        "id": "K5h3KTVuOBP3",
        "colab": {
          "base_uri": "https://localhost:8080/"
        },
        "outputId": "c42696a7-0ae6-4bdc-8683-873b6a76258f"
      },
      "execution_count": 10,
      "outputs": [
        {
          "output_type": "execute_result",
          "data": {
            "text/plain": [
              "13"
            ]
          },
          "metadata": {},
          "execution_count": 10
        }
      ]
    },
    {
      "cell_type": "markdown",
      "source": [
        "6. (6б) Визначте функцію, що віднімає одне число від іншого (підказка: це буде 2 аргументи функції). При чому, якщо не визначити, скільки саме має бути віднято від числа, за замовчуванням має відніматися 1. Викличте функцію, передаючи тільки один аргумент."
      ],
      "metadata": {
        "id": "IILi2wfYOwYb"
      }
    },
    {
      "cell_type": "code",
      "source": [
        "def difference(a, b=1):\n",
        "    return a - b\n",
        "\n",
        "result_one_argument = difference(10)\n",
        "print(\"A result with one argument:\", result_one_argument)\n",
        "\n",
        "result_two_arguments = difference(10, 3)\n",
        "print(\"A result with two arguments:\", result_two_arguments)"
      ],
      "metadata": {
        "id": "hybHnk8ROvxQ",
        "colab": {
          "base_uri": "https://localhost:8080/"
        },
        "outputId": "d01d7bb2-ee38-4ebf-f673-878d06d778d8"
      },
      "execution_count": 39,
      "outputs": [
        {
          "output_type": "stream",
          "name": "stdout",
          "text": [
            "A result with one argument: 9\n",
            "A result with two arguments: 7\n"
          ]
        }
      ]
    },
    {
      "cell_type": "markdown",
      "source": [
        "7. (10б) Визначте функцію, яка приймає iterable (ітерабельний обʼєкт, напр. список), що складається з 7ми рядкових значень - назв погодних умов (напр. \"sunny\") за кожен день у тижні. Повертає функція словник, де ключами є рядки з погодними умовами, а значеннями - кількість разів, скільки дана погода була протягом тижня (напр. {'sunny': 1, ...})."
      ],
      "metadata": {
        "id": "UK6o8zcuR7cH"
      }
    },
    {
      "cell_type": "code",
      "source": [
        "def weather_count(weekly_weather):\n",
        "    weather_dict = {}\n",
        "    for condition in weekly_weather:\n",
        "        if condition in weather_dict:\n",
        "            weather_dict[condition] += 1\n",
        "        else:\n",
        "            weather_dict[condition] = 1\n",
        "    return weather_dict\n",
        "\n",
        "weekly_weather = ['сонячно', 'хмарно', 'сонячно', 'дощ', 'хмарно', 'сонячно', 'сніг']\n",
        "\n",
        "result = weather_count(weekly_weather)\n",
        "print(result)"
      ],
      "metadata": {
        "id": "3gkR5gl0SyYO",
        "colab": {
          "base_uri": "https://localhost:8080/"
        },
        "outputId": "a04f4f7a-69d3-4541-fddc-9ebb41818824"
      },
      "execution_count": 18,
      "outputs": [
        {
          "output_type": "stream",
          "name": "stdout",
          "text": [
            "{'сонячно': 3, 'хмарно': 2, 'дощ': 1, 'сніг': 1}\n"
          ]
        }
      ]
    },
    {
      "cell_type": "markdown",
      "source": [
        "8. (3б) Викличте цю функцію тричі з різними аргументами та виведіть результати на екран."
      ],
      "metadata": {
        "id": "x4zhem_2Syf7"
      }
    },
    {
      "cell_type": "code",
      "source": [
        "week1_weather = ['сонячно', 'хмарно', 'сонячно', 'дощ', 'хмарно', 'сонячно', 'сніг']\n",
        "result1 = weather_count(week1_weather)\n",
        "print(result1)\n",
        "\n",
        "week2_weather = ['хмарно', 'дощ', 'хмарно', 'дощ', 'хмарно', 'сонячно', 'сніг']\n",
        "result2 = weather_count(week2_weather)\n",
        "print(result2)\n",
        "\n",
        "week3_weather = ['сонячно', 'сонячно', 'сонячно', 'дощ', 'хмарно', 'дощ', 'сніг']\n",
        "result3 = weather_count(week3_weather)\n",
        "print(result3)"
      ],
      "metadata": {
        "id": "B0agh7urS0Fc",
        "colab": {
          "base_uri": "https://localhost:8080/"
        },
        "outputId": "3c4aa4f6-240a-4e9f-bbff-c79dd8169991"
      },
      "execution_count": 22,
      "outputs": [
        {
          "output_type": "stream",
          "name": "stdout",
          "text": [
            "{'сонячно': 3, 'хмарно': 2, 'дощ': 1, 'сніг': 1}\n",
            "{'хмарно': 3, 'дощ': 2, 'сонячно': 1, 'сніг': 1}\n",
            "{'сонячно': 3, 'дощ': 2, 'хмарно': 1, 'сніг': 1}\n"
          ]
        }
      ]
    },
    {
      "cell_type": "markdown",
      "source": [
        "9. (15б) Напишіть програму, яка б шукала необхідне число у **впорядкованому** списку цілочислених значень, де\n",
        "\n",
        "\n",
        "1.   число має вводитись з консолі.\n",
        "2.   власне алгоритм пошуку винесений в окрему функцію, яка повертає булеве значення (знайдено число - True, не знайдено - False).\n",
        "3. в залежності від результату функції, виведіть на екран повідомлення про успішний або ж неуспішний пошук.\n",
        "\n",
        "\n",
        "**Зауваження**: використовувати оператор **in** заборонено."
      ],
      "metadata": {
        "id": "bLgviTMlUlNG"
      }
    },
    {
      "cell_type": "code",
      "source": [
        "def binary_search(sorted_list, target):\n",
        "    left = 0\n",
        "    right = len(sorted_list) - 1\n",
        "    while left <= right:\n",
        "        mid = (left + right) // 2\n",
        "        element = sorted_list[mid]\n",
        "        if element == target:\n",
        "            return True\n",
        "        elif element < target:\n",
        "            left = mid + 1\n",
        "        else:\n",
        "            right = mid - 1\n",
        "    return False\n",
        "\n",
        "sorted_numbers = [2, 5, 8, 12, 16, 23, 38, 56, 72, 91]\n",
        "\n",
        "target_number = int(input(\"Enter a number to search for: \"))\n",
        "\n",
        "search_result = binary_search(sorted_numbers, target_number)\n",
        "\n",
        "if search_result:\n",
        "    print(f\"The number {target_number} was found in the list.\")\n",
        "else:\n",
        "    print(f\"The number {target_number} was not found in the list.\")"
      ],
      "metadata": {
        "id": "LAHz6MmdcWfP",
        "colab": {
          "base_uri": "https://localhost:8080/"
        },
        "outputId": "323b0be1-e170-4bcb-c34f-35e507f3f945"
      },
      "execution_count": 24,
      "outputs": [
        {
          "output_type": "stream",
          "name": "stdout",
          "text": [
            "Enter a number to search for: 12\n",
            "The number 12 was found in the list.\n"
          ]
        }
      ]
    },
    {
      "cell_type": "markdown",
      "source": [
        "# II. Lambda functions."
      ],
      "metadata": {
        "id": "wCKOEiKhLSld"
      }
    },
    {
      "cell_type": "markdown",
      "source": [
        "10. (6б) Визначте анонімну функцію, що виконувала б завдання з задачі №1."
      ],
      "metadata": {
        "id": "c4EBfW6QcXF7"
      }
    },
    {
      "cell_type": "code",
      "source": [
        "division = lambda x, y: x / y\n",
        "\n",
        "result = division(10, 2)\n",
        "print(result)"
      ],
      "metadata": {
        "id": "sGgO6KjuhUj5",
        "colab": {
          "base_uri": "https://localhost:8080/"
        },
        "outputId": "b60993b4-58ca-4c8c-f2ac-940f6e70ac88"
      },
      "execution_count": 26,
      "outputs": [
        {
          "output_type": "stream",
          "name": "stdout",
          "text": [
            "5.0\n"
          ]
        }
      ]
    },
    {
      "cell_type": "markdown",
      "source": [
        "11. (5б) В яких випадках варто використовувати лямбда-функції?"
      ],
      "metadata": {
        "id": "fWa0efmRhepO"
      }
    },
    {
      "cell_type": "markdown",
      "source": [
        "Лямбда-функції допомагає скоротити код, коли потрібно швидко створити функцію для невеликих обчислень чи операцій над даними"
      ],
      "metadata": {
        "id": "R68BViaPhad_"
      }
    },
    {
      "cell_type": "markdown",
      "source": [
        "12. (9б) Визначте список з рядками. Після цього визначте анонімну функцію для отримання першого символу у верхньому регістрі для кожного рядка списку.\n",
        "*Підказка*: використовуйте анонімну функцію в якості агрумента до вбудованої ф-ції, яка створена для застосування функцій над iterable обʼєктами.\n",
        "Результат виведіть на екран у вигляді кортежу."
      ],
      "metadata": {
        "id": "0CL6ikIkhU7j"
      }
    },
    {
      "cell_type": "code",
      "source": [
        "strings = ['apple', 'banana', 'cherry', 'melon']\n",
        "\n",
        "result = tuple(map(lambda x: x[0].upper(), strings))\n",
        "\n",
        "print(result)"
      ],
      "metadata": {
        "id": "I1Lw2SSNhhJw",
        "colab": {
          "base_uri": "https://localhost:8080/"
        },
        "outputId": "4ac0af86-c03c-448d-da94-1120b455ea05"
      },
      "execution_count": 28,
      "outputs": [
        {
          "output_type": "stream",
          "name": "stdout",
          "text": [
            "('A', 'B', 'C', 'M')\n"
          ]
        }
      ]
    },
    {
      "cell_type": "markdown",
      "source": [
        "# III. Decorators."
      ],
      "metadata": {
        "id": "rgGmGt67m5yi"
      }
    },
    {
      "cell_type": "markdown",
      "source": [
        "13. (15б) Визначте декоратор, який би виводив у консоль повідомлення про початок роботи і назву функції, а після відпрацювання функції - повідомлення про закінчення роботи і назву функції, що задекорована."
      ],
      "metadata": {
        "id": "DZm1W0Qqncu8"
      }
    },
    {
      "cell_type": "code",
      "source": [
        "def decorator(func):\n",
        "    def wrapper(*args, **kwargs):\n",
        "        print(f\"Start of {func.__name__}\")\n",
        "        result = func(*args, **kwargs)\n",
        "        print(f\"End of {func.__name__}\")\n",
        "        return result\n",
        "    return wrapper\n",
        "\n",
        "@decorator\n",
        "def example_function():\n",
        "    print(\"This is an example function\")\n",
        "\n",
        "example_function()\n"
      ],
      "metadata": {
        "id": "5s3X3F6soer0",
        "colab": {
          "base_uri": "https://localhost:8080/"
        },
        "outputId": "f1edd848-076a-417f-afd3-af9b6e3074b9"
      },
      "execution_count": 27,
      "outputs": [
        {
          "output_type": "stream",
          "name": "stdout",
          "text": [
            "Start of example_function\n",
            "This is an example function\n",
            "End of example_function\n"
          ]
        }
      ]
    },
    {
      "cell_type": "markdown",
      "source": [
        "14. (7б) Задекоруйте функції з завдання 3, 5 та 6 декоратором із завдання 13. *Примітка*: продемонструйте 2 способи, як можна задекорувати функції (**УВАГА**: не декоруйте функції двічі!)."
      ],
      "metadata": {
        "id": "AlGt40oVofHB"
      }
    },
    {
      "cell_type": "code",
      "source": [
        "@decorator\n",
        "def division(a, b):\n",
        "    if b == 0:\n",
        "        return None\n",
        "    else:\n",
        "        return a / b\n",
        "\n",
        "result = division(10, 2)\n",
        "print(\"Division result:\", result)\n",
        "\n",
        "result_division_by_zero = division(8, 0)\n",
        "print(\"Division result by zero:\", result_division_by_zero)\n",
        "\n",
        "@decorator\n",
        "def calculate_sum(a, b):\n",
        "    return a + b\n",
        "\n",
        "calculate_sum(5, 8)\n",
        "\n",
        "@decorator\n",
        "def difference(a, b=1):\n",
        "    return a - b\n",
        "\n",
        "result_one_argument = difference(10)\n",
        "print(\"Result with one argument:\", result_one_argument)\n",
        "\n",
        "result_two_arguments = difference(10, 3)\n",
        "print(\"Result with two arguments:\", result_two_arguments)"
      ],
      "metadata": {
        "id": "hkxhoRVqo1AW",
        "colab": {
          "base_uri": "https://localhost:8080/"
        },
        "outputId": "630c19eb-acc9-46e8-a4a0-d6a737780973"
      },
      "execution_count": 38,
      "outputs": [
        {
          "output_type": "stream",
          "name": "stdout",
          "text": [
            "Start of division\n",
            "End of division\n",
            "Division result: 5.0\n",
            "Start of division\n",
            "End of division\n",
            "Division result by zero: None\n",
            "Start of calculate_sum\n",
            "End of calculate_sum\n",
            "Start of difference\n",
            "End of difference\n",
            "Result with one argument: 9\n",
            "Start of difference\n",
            "End of difference\n",
            "Result with two arguments: 7\n"
          ]
        }
      ]
    },
    {
      "cell_type": "markdown",
      "source": [
        "15. (2б) Викличте одну з задекорованих функцій і виведіть її результат на екран."
      ],
      "metadata": {
        "id": "6QkS0Kxzo4UR"
      }
    },
    {
      "cell_type": "code",
      "source": [
        "print(calculate_sum(5,8))"
      ],
      "metadata": {
        "id": "BCCCPai6o-y5",
        "colab": {
          "base_uri": "https://localhost:8080/"
        },
        "outputId": "d6b7548c-e67f-4b80-d889-2b632cdb9d32"
      },
      "execution_count": 37,
      "outputs": [
        {
          "output_type": "stream",
          "name": "stdout",
          "text": [
            "Start of calculate_sum\n",
            "End of calculate_sum\n",
            "13\n"
          ]
        }
      ]
    },
    {
      "cell_type": "markdown",
      "source": [
        "# Вітаю! Ви велика(ий) молодець, що впоралась(вся). Похваліть себе та побалуйте чимось приємним. Я Вами пишаюся."
      ],
      "metadata": {
        "id": "CSN0Q5pMQVNQ"
      }
    }
  ]
}